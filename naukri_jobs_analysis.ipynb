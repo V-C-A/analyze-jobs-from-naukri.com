{
 "cells": [
  {
   "cell_type": "code",
   "execution_count": 63,
   "metadata": {
    "ExecuteTime": {
     "end_time": "2021-07-19T12:11:14.460139Z",
     "start_time": "2021-07-19T12:11:14.456091Z"
    }
   },
   "outputs": [],
   "source": [
    "# import libraries\n",
    "import pandas as pd\n",
    "import numpy as np\n",
    "import matplotlib.pyplot as plt\n",
    "from collections import Counter\n",
    "import re"
   ]
  },
  {
   "cell_type": "code",
   "execution_count": 64,
   "metadata": {
    "ExecuteTime": {
     "end_time": "2021-07-19T12:11:15.593632Z",
     "start_time": "2021-07-19T12:11:15.201875Z"
    }
   },
   "outputs": [],
   "source": [
    "# read csv\n",
    "df = pd.read_csv('naukri_jobs.csv')"
   ]
  },
  {
   "cell_type": "code",
   "execution_count": 65,
   "metadata": {
    "ExecuteTime": {
     "end_time": "2021-07-19T12:11:16.042104Z",
     "start_time": "2021-07-19T12:11:16.000982Z"
    }
   },
   "outputs": [
    {
     "data": {
      "text/html": [
       "<div>\n",
       "<style scoped>\n",
       "    .dataframe tbody tr th:only-of-type {\n",
       "        vertical-align: middle;\n",
       "    }\n",
       "\n",
       "    .dataframe tbody tr th {\n",
       "        vertical-align: top;\n",
       "    }\n",
       "\n",
       "    .dataframe thead th {\n",
       "        text-align: right;\n",
       "    }\n",
       "</style>\n",
       "<table border=\"1\" class=\"dataframe\">\n",
       "  <thead>\n",
       "    <tr style=\"text-align: right;\">\n",
       "      <th></th>\n",
       "      <th>Uniq Id</th>\n",
       "      <th>Crawl Timestamp</th>\n",
       "      <th>Job Title</th>\n",
       "      <th>Job Salary</th>\n",
       "      <th>Job Experience Required</th>\n",
       "      <th>Key Skills</th>\n",
       "      <th>Role Category</th>\n",
       "      <th>Location</th>\n",
       "      <th>Functional Area</th>\n",
       "      <th>Industry</th>\n",
       "      <th>Role</th>\n",
       "    </tr>\n",
       "  </thead>\n",
       "  <tbody>\n",
       "    <tr>\n",
       "      <th>0</th>\n",
       "      <td>9be62c49a0b7ebe982a4af1edaa7bc5f</td>\n",
       "      <td>2019-07-05 01:46:07 +0000</td>\n",
       "      <td>Digital Media Planner</td>\n",
       "      <td>Not Disclosed by Recruiter</td>\n",
       "      <td>5 - 10 yrs</td>\n",
       "      <td>Media Planning| Digital Media</td>\n",
       "      <td>Advertising</td>\n",
       "      <td>Mumbai</td>\n",
       "      <td>Marketing , Advertising , MR , PR , Media Plan...</td>\n",
       "      <td>Advertising, PR, MR, Event Management</td>\n",
       "      <td>Media Planning Executive/Manager</td>\n",
       "    </tr>\n",
       "    <tr>\n",
       "      <th>1</th>\n",
       "      <td>3c52d436e39f596b22519da2612f6a56</td>\n",
       "      <td>2019-07-06 08:04:50 +0000</td>\n",
       "      <td>Online Bidding Executive</td>\n",
       "      <td>Not Disclosed by Recruiter</td>\n",
       "      <td>2 - 5 yrs</td>\n",
       "      <td>pre sales| closing| software knowledge| clien...</td>\n",
       "      <td>Retail Sales</td>\n",
       "      <td>Pune,Pune</td>\n",
       "      <td>Sales , Retail , Business Development</td>\n",
       "      <td>IT-Software, Software Services</td>\n",
       "      <td>Sales Executive/Officer</td>\n",
       "    </tr>\n",
       "    <tr>\n",
       "      <th>2</th>\n",
       "      <td>ffad8a2396c60be2bf6d0e2ff47c58d4</td>\n",
       "      <td>2019-08-05 15:50:44 +0000</td>\n",
       "      <td>Trainee Research/ Research Executive- Hi- Tec...</td>\n",
       "      <td>Not Disclosed by Recruiter</td>\n",
       "      <td>0 - 1 yrs</td>\n",
       "      <td>Computer science| Fabrication| Quality check|...</td>\n",
       "      <td>R&amp;D</td>\n",
       "      <td>Gurgaon</td>\n",
       "      <td>Engineering Design , R&amp;D</td>\n",
       "      <td>Recruitment, Staffing</td>\n",
       "      <td>R&amp;D Executive</td>\n",
       "    </tr>\n",
       "    <tr>\n",
       "      <th>3</th>\n",
       "      <td>7b921f51b5c2fb862b4a5f7a54c37f75</td>\n",
       "      <td>2019-08-05 15:31:56 +0000</td>\n",
       "      <td>Technical Support</td>\n",
       "      <td>2,00,000 - 4,00,000 PA.</td>\n",
       "      <td>0 - 5 yrs</td>\n",
       "      <td>Technical Support</td>\n",
       "      <td>Admin/Maintenance/Security/Datawarehousing</td>\n",
       "      <td>Mumbai</td>\n",
       "      <td>IT Software - Application Programming , Mainte...</td>\n",
       "      <td>IT-Software, Software Services</td>\n",
       "      <td>Technical Support Engineer</td>\n",
       "    </tr>\n",
       "    <tr>\n",
       "      <th>4</th>\n",
       "      <td>2d8b7d44e138a54d5dc841163138de50</td>\n",
       "      <td>2019-07-05 02:48:29 +0000</td>\n",
       "      <td>Software Test Engineer -hyderabad</td>\n",
       "      <td>Not Disclosed by Recruiter</td>\n",
       "      <td>2 - 5 yrs</td>\n",
       "      <td>manual testing| test engineering| test cases|...</td>\n",
       "      <td>Programming &amp; Design</td>\n",
       "      <td>Hyderabad</td>\n",
       "      <td>IT Software - QA &amp; Testing</td>\n",
       "      <td>IT-Software, Software Services</td>\n",
       "      <td>Testing Engineer</td>\n",
       "    </tr>\n",
       "  </tbody>\n",
       "</table>\n",
       "</div>"
      ],
      "text/plain": [
       "                            Uniq Id            Crawl Timestamp  \\\n",
       "0  9be62c49a0b7ebe982a4af1edaa7bc5f  2019-07-05 01:46:07 +0000   \n",
       "1  3c52d436e39f596b22519da2612f6a56  2019-07-06 08:04:50 +0000   \n",
       "2  ffad8a2396c60be2bf6d0e2ff47c58d4  2019-08-05 15:50:44 +0000   \n",
       "3  7b921f51b5c2fb862b4a5f7a54c37f75  2019-08-05 15:31:56 +0000   \n",
       "4  2d8b7d44e138a54d5dc841163138de50  2019-07-05 02:48:29 +0000   \n",
       "\n",
       "                                           Job Title  \\\n",
       "0                              Digital Media Planner   \n",
       "1                           Online Bidding Executive   \n",
       "2   Trainee Research/ Research Executive- Hi- Tec...   \n",
       "3                                  Technical Support   \n",
       "4                  Software Test Engineer -hyderabad   \n",
       "\n",
       "                     Job Salary Job Experience Required  \\\n",
       "0   Not Disclosed by Recruiter               5 - 10 yrs   \n",
       "1   Not Disclosed by Recruiter                2 - 5 yrs   \n",
       "2   Not Disclosed by Recruiter                0 - 1 yrs   \n",
       "3      2,00,000 - 4,00,000 PA.                0 - 5 yrs   \n",
       "4   Not Disclosed by Recruiter                2 - 5 yrs   \n",
       "\n",
       "                                          Key Skills  \\\n",
       "0                      Media Planning| Digital Media   \n",
       "1   pre sales| closing| software knowledge| clien...   \n",
       "2   Computer science| Fabrication| Quality check|...   \n",
       "3                                  Technical Support   \n",
       "4   manual testing| test engineering| test cases|...   \n",
       "\n",
       "                                Role Category   Location  \\\n",
       "0                                 Advertising     Mumbai   \n",
       "1                                Retail Sales  Pune,Pune   \n",
       "2                                         R&D    Gurgaon   \n",
       "3  Admin/Maintenance/Security/Datawarehousing     Mumbai   \n",
       "4                        Programming & Design  Hyderabad   \n",
       "\n",
       "                                     Functional Area  \\\n",
       "0  Marketing , Advertising , MR , PR , Media Plan...   \n",
       "1              Sales , Retail , Business Development   \n",
       "2                           Engineering Design , R&D   \n",
       "3  IT Software - Application Programming , Mainte...   \n",
       "4                         IT Software - QA & Testing   \n",
       "\n",
       "                                Industry                              Role  \n",
       "0  Advertising, PR, MR, Event Management  Media Planning Executive/Manager  \n",
       "1         IT-Software, Software Services           Sales Executive/Officer  \n",
       "2                  Recruitment, Staffing                     R&D Executive  \n",
       "3         IT-Software, Software Services        Technical Support Engineer  \n",
       "4         IT-Software, Software Services                  Testing Engineer  "
      ]
     },
     "execution_count": 65,
     "metadata": {},
     "output_type": "execute_result"
    }
   ],
   "source": [
    "# first rows\n",
    "df.head()"
   ]
  },
  {
   "cell_type": "code",
   "execution_count": 66,
   "metadata": {
    "ExecuteTime": {
     "end_time": "2021-07-19T12:11:16.723465Z",
     "start_time": "2021-07-19T12:11:16.673092Z"
    }
   },
   "outputs": [
    {
     "name": "stdout",
     "output_type": "stream",
     "text": [
      "<class 'pandas.core.frame.DataFrame'>\n",
      "RangeIndex: 30000 entries, 0 to 29999\n",
      "Data columns (total 11 columns):\n",
      " #   Column                   Non-Null Count  Dtype \n",
      "---  ------                   --------------  ----- \n",
      " 0   Uniq Id                  30000 non-null  object\n",
      " 1   Crawl Timestamp          30000 non-null  object\n",
      " 2   Job Title                29425 non-null  object\n",
      " 3   Job Salary               29950 non-null  object\n",
      " 4   Job Experience Required  29427 non-null  object\n",
      " 5   Key Skills               28729 non-null  object\n",
      " 6   Role Category            27695 non-null  object\n",
      " 7   Location                 29423 non-null  object\n",
      " 8   Functional Area          29427 non-null  object\n",
      " 9   Industry                 29427 non-null  object\n",
      " 10  Role                     29099 non-null  object\n",
      "dtypes: object(11)\n",
      "memory usage: 2.5+ MB\n"
     ]
    }
   ],
   "source": [
    "# general info\n",
    "df.info()"
   ]
  },
  {
   "cell_type": "code",
   "execution_count": 67,
   "metadata": {
    "ExecuteTime": {
     "end_time": "2021-07-19T12:11:17.332341Z",
     "start_time": "2021-07-19T12:11:17.316327Z"
    }
   },
   "outputs": [],
   "source": [
    "# rename all columns by a pattern\n",
    "df.rename(columns=lambda x: x.strip().lower().replace(\" \", \"_\"), inplace=True)"
   ]
  },
  {
   "cell_type": "code",
   "execution_count": 68,
   "metadata": {
    "ExecuteTime": {
     "end_time": "2021-07-19T12:11:18.014126Z",
     "start_time": "2021-07-19T12:11:17.999027Z"
    }
   },
   "outputs": [
    {
     "data": {
      "text/plain": [
       "Index(['uniq_id', 'crawl_timestamp', 'job_title', 'job_salary',\n",
       "       'job_experience_required', 'key_skills', 'role_category', 'location',\n",
       "       'functional_area', 'industry', 'role'],\n",
       "      dtype='object')"
      ]
     },
     "execution_count": 68,
     "metadata": {},
     "output_type": "execute_result"
    }
   ],
   "source": [
    "# check changes\n",
    "df.columns"
   ]
  },
  {
   "cell_type": "code",
   "execution_count": 69,
   "metadata": {
    "ExecuteTime": {
     "end_time": "2021-07-19T12:11:18.651066Z",
     "start_time": "2021-07-19T12:11:18.639861Z"
    }
   },
   "outputs": [],
   "source": [
    "# delete columns\n",
    "df.drop(['crawl_timestamp', 'job_title', 'uniq_id', 'role', 'industry'], axis=1, inplace=True)"
   ]
  },
  {
   "cell_type": "code",
   "execution_count": 70,
   "metadata": {
    "ExecuteTime": {
     "end_time": "2021-07-19T12:11:19.344999Z",
     "start_time": "2021-07-19T12:11:19.301815Z"
    }
   },
   "outputs": [
    {
     "data": {
      "text/plain": [
       "job_salary                   50\n",
       "job_experience_required     573\n",
       "key_skills                 1271\n",
       "role_category              2305\n",
       "location                    577\n",
       "functional_area             573\n",
       "dtype: int64"
      ]
     },
     "execution_count": 70,
     "metadata": {},
     "output_type": "execute_result"
    }
   ],
   "source": [
    "# check null values\n",
    "df.isnull().sum()"
   ]
  },
  {
   "cell_type": "code",
   "execution_count": 71,
   "metadata": {
    "ExecuteTime": {
     "end_time": "2021-07-19T12:11:19.986908Z",
     "start_time": "2021-07-19T12:11:19.932913Z"
    }
   },
   "outputs": [
    {
     "data": {
      "text/html": [
       "<div>\n",
       "<style scoped>\n",
       "    .dataframe tbody tr th:only-of-type {\n",
       "        vertical-align: middle;\n",
       "    }\n",
       "\n",
       "    .dataframe tbody tr th {\n",
       "        vertical-align: top;\n",
       "    }\n",
       "\n",
       "    .dataframe thead th {\n",
       "        text-align: right;\n",
       "    }\n",
       "</style>\n",
       "<table border=\"1\" class=\"dataframe\">\n",
       "  <thead>\n",
       "    <tr style=\"text-align: right;\">\n",
       "      <th></th>\n",
       "      <th>job_salary</th>\n",
       "      <th>job_experience_required</th>\n",
       "      <th>key_skills</th>\n",
       "      <th>role_category</th>\n",
       "      <th>location</th>\n",
       "      <th>functional_area</th>\n",
       "    </tr>\n",
       "  </thead>\n",
       "  <tbody>\n",
       "    <tr>\n",
       "      <th>15</th>\n",
       "      <td>Not Disclosed by Recruiter</td>\n",
       "      <td>0 - 1 yrs</td>\n",
       "      <td>instrumentation engineering| electrical engin...</td>\n",
       "      <td>NaN</td>\n",
       "      <td>Chennai</td>\n",
       "      <td>Other</td>\n",
       "    </tr>\n",
       "    <tr>\n",
       "      <th>31</th>\n",
       "      <td>Not Disclosed by Recruiter</td>\n",
       "      <td>3 - 5 yrs</td>\n",
       "      <td>NaN</td>\n",
       "      <td>NaN</td>\n",
       "      <td>Delhi</td>\n",
       "      <td>Teaching , Education , Training , Counselling</td>\n",
       "    </tr>\n",
       "    <tr>\n",
       "      <th>34</th>\n",
       "      <td>Not Disclosed by Recruiter</td>\n",
       "      <td>3 - 6 yrs</td>\n",
       "      <td>NaN</td>\n",
       "      <td>Programming &amp; Design</td>\n",
       "      <td>Bengaluru</td>\n",
       "      <td>IT Software - Application Programming , Mainte...</td>\n",
       "    </tr>\n",
       "    <tr>\n",
       "      <th>41</th>\n",
       "      <td>9,00,000 - 17,00,000 PA.</td>\n",
       "      <td>6 - 8 yrs</td>\n",
       "      <td>JMS| Core Java| Sonar| Weblogic| XML| J2Ee| S...</td>\n",
       "      <td>NaN</td>\n",
       "      <td>Pune</td>\n",
       "      <td>Other</td>\n",
       "    </tr>\n",
       "    <tr>\n",
       "      <th>53</th>\n",
       "      <td>19,00,000 - 25,00,000 PA.</td>\n",
       "      <td>15 - 20 yrs</td>\n",
       "      <td>networking| information technology| network a...</td>\n",
       "      <td>NaN</td>\n",
       "      <td>Delhi NCR</td>\n",
       "      <td>Other</td>\n",
       "    </tr>\n",
       "    <tr>\n",
       "      <th>...</th>\n",
       "      <td>...</td>\n",
       "      <td>...</td>\n",
       "      <td>...</td>\n",
       "      <td>...</td>\n",
       "      <td>...</td>\n",
       "      <td>...</td>\n",
       "    </tr>\n",
       "    <tr>\n",
       "      <th>29918</th>\n",
       "      <td>NaN</td>\n",
       "      <td>Not Mentioned</td>\n",
       "      <td>NaN</td>\n",
       "      <td>NaN</td>\n",
       "      <td>Delhi</td>\n",
       "      <td>Teaching , Education , Training , Counselling</td>\n",
       "    </tr>\n",
       "    <tr>\n",
       "      <th>29942</th>\n",
       "      <td>Not disclosed</td>\n",
       "      <td>NaN</td>\n",
       "      <td>Leads|Senior|Lead|Senior|Lead|Lead|Lead|Senior...</td>\n",
       "      <td>NaN</td>\n",
       "      <td>NaN</td>\n",
       "      <td>NaN</td>\n",
       "    </tr>\n",
       "    <tr>\n",
       "      <th>29945</th>\n",
       "      <td>Not Disclosed by Recruiter</td>\n",
       "      <td>5 - 10 yrs</td>\n",
       "      <td>cook| Indian| cooks</td>\n",
       "      <td>NaN</td>\n",
       "      <td>Delhi NCR</td>\n",
       "      <td>Other</td>\n",
       "    </tr>\n",
       "    <tr>\n",
       "      <th>29971</th>\n",
       "      <td>INR 1,75,000 - 2,75,000 PA.</td>\n",
       "      <td>NaN</td>\n",
       "      <td>Associates|Associate|Associates|Associate|Asso...</td>\n",
       "      <td>NaN</td>\n",
       "      <td>NaN</td>\n",
       "      <td>NaN</td>\n",
       "    </tr>\n",
       "    <tr>\n",
       "      <th>29985</th>\n",
       "      <td>Not Disclosed by Recruiter</td>\n",
       "      <td>Not Mentioned</td>\n",
       "      <td>NaN</td>\n",
       "      <td>NaN</td>\n",
       "      <td>Delhi</td>\n",
       "      <td>Medical , Healthcare , R&amp;D , Pharmaceuticals ,...</td>\n",
       "    </tr>\n",
       "  </tbody>\n",
       "</table>\n",
       "<p>2990 rows × 6 columns</p>\n",
       "</div>"
      ],
      "text/plain": [
       "                          job_salary job_experience_required  \\\n",
       "15       Not Disclosed by Recruiter                0 - 1 yrs   \n",
       "31       Not Disclosed by Recruiter                3 - 5 yrs   \n",
       "34       Not Disclosed by Recruiter                3 - 6 yrs   \n",
       "41         9,00,000 - 17,00,000 PA.                6 - 8 yrs   \n",
       "53        19,00,000 - 25,00,000 PA.              15 - 20 yrs   \n",
       "...                              ...                     ...   \n",
       "29918                            NaN           Not Mentioned   \n",
       "29942                 Not disclosed                      NaN   \n",
       "29945    Not Disclosed by Recruiter               5 - 10 yrs   \n",
       "29971   INR 1,75,000 - 2,75,000 PA.                      NaN   \n",
       "29985    Not Disclosed by Recruiter            Not Mentioned   \n",
       "\n",
       "                                              key_skills  \\\n",
       "15      instrumentation engineering| electrical engin...   \n",
       "31                                                   NaN   \n",
       "34                                                   NaN   \n",
       "41      JMS| Core Java| Sonar| Weblogic| XML| J2Ee| S...   \n",
       "53      networking| information technology| network a...   \n",
       "...                                                  ...   \n",
       "29918                                                NaN   \n",
       "29942  Leads|Senior|Lead|Senior|Lead|Lead|Lead|Senior...   \n",
       "29945                                cook| Indian| cooks   \n",
       "29971  Associates|Associate|Associates|Associate|Asso...   \n",
       "29985                                                NaN   \n",
       "\n",
       "              role_category   location  \\\n",
       "15                      NaN    Chennai   \n",
       "31                      NaN      Delhi   \n",
       "34     Programming & Design  Bengaluru   \n",
       "41                      NaN       Pune   \n",
       "53                      NaN  Delhi NCR   \n",
       "...                     ...        ...   \n",
       "29918                   NaN      Delhi   \n",
       "29942                   NaN        NaN   \n",
       "29945                   NaN  Delhi NCR   \n",
       "29971                   NaN        NaN   \n",
       "29985                   NaN      Delhi   \n",
       "\n",
       "                                         functional_area  \n",
       "15                                                 Other  \n",
       "31         Teaching , Education , Training , Counselling  \n",
       "34     IT Software - Application Programming , Mainte...  \n",
       "41                                                 Other  \n",
       "53                                                 Other  \n",
       "...                                                  ...  \n",
       "29918      Teaching , Education , Training , Counselling  \n",
       "29942                                                NaN  \n",
       "29945                                              Other  \n",
       "29971                                                NaN  \n",
       "29985  Medical , Healthcare , R&D , Pharmaceuticals ,...  \n",
       "\n",
       "[2990 rows x 6 columns]"
      ]
     },
     "execution_count": 71,
     "metadata": {},
     "output_type": "execute_result"
    }
   ],
   "source": [
    "# where are them\n",
    "df[df.isnull().any(axis=1)]"
   ]
  },
  {
   "cell_type": "code",
   "execution_count": 72,
   "metadata": {
    "ExecuteTime": {
     "end_time": "2021-07-19T12:11:20.690660Z",
     "start_time": "2021-07-19T12:11:20.649982Z"
    }
   },
   "outputs": [],
   "source": [
    "# drop null values\n",
    "df.dropna(inplace=True)\n",
    "\n",
    "# an alternative is fill null values by mean (if integers or floats)"
   ]
  },
  {
   "cell_type": "code",
   "execution_count": 73,
   "metadata": {
    "ExecuteTime": {
     "end_time": "2021-07-19T12:11:21.403817Z",
     "start_time": "2021-07-19T12:11:21.369983Z"
    }
   },
   "outputs": [
    {
     "data": {
      "text/plain": [
       "job_salary                 0\n",
       "job_experience_required    0\n",
       "key_skills                 0\n",
       "role_category              0\n",
       "location                   0\n",
       "functional_area            0\n",
       "dtype: int64"
      ]
     },
     "execution_count": 73,
     "metadata": {},
     "output_type": "execute_result"
    }
   ],
   "source": [
    "# check changes\n",
    "df.isnull().sum()"
   ]
  },
  {
   "cell_type": "code",
   "execution_count": 74,
   "metadata": {
    "ExecuteTime": {
     "end_time": "2021-07-19T12:11:22.137817Z",
     "start_time": "2021-07-19T12:11:22.060801Z"
    }
   },
   "outputs": [
    {
     "data": {
      "text/plain": [
       "351"
      ]
     },
     "execution_count": 74,
     "metadata": {},
     "output_type": "execute_result"
    }
   ],
   "source": [
    "# duplicates\n",
    "sum(df.duplicated())"
   ]
  },
  {
   "cell_type": "code",
   "execution_count": 75,
   "metadata": {
    "ExecuteTime": {
     "end_time": "2021-07-19T12:11:22.806369Z",
     "start_time": "2021-07-19T12:11:22.728595Z"
    }
   },
   "outputs": [
    {
     "data": {
      "text/html": [
       "<div>\n",
       "<style scoped>\n",
       "    .dataframe tbody tr th:only-of-type {\n",
       "        vertical-align: middle;\n",
       "    }\n",
       "\n",
       "    .dataframe tbody tr th {\n",
       "        vertical-align: top;\n",
       "    }\n",
       "\n",
       "    .dataframe thead th {\n",
       "        text-align: right;\n",
       "    }\n",
       "</style>\n",
       "<table border=\"1\" class=\"dataframe\">\n",
       "  <thead>\n",
       "    <tr style=\"text-align: right;\">\n",
       "      <th></th>\n",
       "      <th>job_salary</th>\n",
       "      <th>job_experience_required</th>\n",
       "      <th>key_skills</th>\n",
       "      <th>role_category</th>\n",
       "      <th>location</th>\n",
       "      <th>functional_area</th>\n",
       "    </tr>\n",
       "  </thead>\n",
       "  <tbody>\n",
       "    <tr>\n",
       "      <th>1025</th>\n",
       "      <td>Not Disclosed by Recruiter</td>\n",
       "      <td>0 - 3 yrs</td>\n",
       "      <td>Help Desk| Customer Service| data analysis| t...</td>\n",
       "      <td>Voice</td>\n",
       "      <td>Kolkata</td>\n",
       "      <td>ITES , BPO , KPO , LPO , Customer Service , Op...</td>\n",
       "    </tr>\n",
       "    <tr>\n",
       "      <th>1272</th>\n",
       "      <td>Not Disclosed by Recruiter</td>\n",
       "      <td>0 - 3 yrs</td>\n",
       "      <td>data analysis| Customer Service| Help Desk| I...</td>\n",
       "      <td>Voice</td>\n",
       "      <td>Kolkata</td>\n",
       "      <td>ITES , BPO , KPO , LPO , Customer Service , Op...</td>\n",
       "    </tr>\n",
       "    <tr>\n",
       "      <th>1973</th>\n",
       "      <td>Not Disclosed by Recruiter</td>\n",
       "      <td>0 - 3 yrs</td>\n",
       "      <td>Help Desk| Customer Service| data analysis| t...</td>\n",
       "      <td>Voice</td>\n",
       "      <td>Kolkata</td>\n",
       "      <td>ITES , BPO , KPO , LPO , Customer Service , Op...</td>\n",
       "    </tr>\n",
       "    <tr>\n",
       "      <th>2094</th>\n",
       "      <td>Not Disclosed by Recruiter</td>\n",
       "      <td>2 - 4 yrs</td>\n",
       "      <td>teaching| Counselor| Mentor| Trainer| Advisor</td>\n",
       "      <td>Teachers</td>\n",
       "      <td>Bengaluru</td>\n",
       "      <td>Teaching , Education , Training , Counselling</td>\n",
       "    </tr>\n",
       "    <tr>\n",
       "      <th>2126</th>\n",
       "      <td>Not Disclosed by Recruiter</td>\n",
       "      <td>10 - 12 yrs</td>\n",
       "      <td>Teaching| Educator| Counselor| Mentor| Traine...</td>\n",
       "      <td>University Level</td>\n",
       "      <td>Pune</td>\n",
       "      <td>Teaching , Education , Training , Counselling</td>\n",
       "    </tr>\n",
       "    <tr>\n",
       "      <th>...</th>\n",
       "      <td>...</td>\n",
       "      <td>...</td>\n",
       "      <td>...</td>\n",
       "      <td>...</td>\n",
       "      <td>...</td>\n",
       "      <td>...</td>\n",
       "    </tr>\n",
       "    <tr>\n",
       "      <th>29704</th>\n",
       "      <td>Not Disclosed by Recruiter</td>\n",
       "      <td>3 - 8 yrs</td>\n",
       "      <td>Help Desk| Customer Service| customer relatio...</td>\n",
       "      <td>Teachers</td>\n",
       "      <td>Chennai</td>\n",
       "      <td>Teaching , Education , Training , Counselling</td>\n",
       "    </tr>\n",
       "    <tr>\n",
       "      <th>29721</th>\n",
       "      <td>Not Disclosed by Recruiter</td>\n",
       "      <td>0 - 3 yrs</td>\n",
       "      <td>Sales Associate| Technical support| Issue| In...</td>\n",
       "      <td>Voice</td>\n",
       "      <td>Kolkata</td>\n",
       "      <td>ITES , BPO , KPO , LPO , Customer Service , Op...</td>\n",
       "    </tr>\n",
       "    <tr>\n",
       "      <th>29783</th>\n",
       "      <td>2,25,000 - 4,50,000 PA.</td>\n",
       "      <td>0 - 4 yrs</td>\n",
       "      <td>bpo| tech support| it help desk| customer rel...</td>\n",
       "      <td>Voice</td>\n",
       "      <td>Bengaluru</td>\n",
       "      <td>ITES , BPO , KPO , LPO , Customer Service , Op...</td>\n",
       "    </tr>\n",
       "    <tr>\n",
       "      <th>29802</th>\n",
       "      <td>1,50,000 - 6,50,000 PA.</td>\n",
       "      <td>0 - 5 yrs</td>\n",
       "      <td>international sales| expedia| bpo| internatio...</td>\n",
       "      <td>Voice</td>\n",
       "      <td>Bengaluru</td>\n",
       "      <td>ITES , BPO , KPO , LPO , Customer Service , Op...</td>\n",
       "    </tr>\n",
       "    <tr>\n",
       "      <th>29906</th>\n",
       "      <td>Not Disclosed by Recruiter</td>\n",
       "      <td>0 - 1 yrs</td>\n",
       "      <td>Customer Support| bde| freshers| Technical Su...</td>\n",
       "      <td>Technical Support</td>\n",
       "      <td>Bengaluru</td>\n",
       "      <td>IT Hardware , Technical Support , Telecom Engi...</td>\n",
       "    </tr>\n",
       "  </tbody>\n",
       "</table>\n",
       "<p>351 rows × 6 columns</p>\n",
       "</div>"
      ],
      "text/plain": [
       "                         job_salary job_experience_required  \\\n",
       "1025    Not Disclosed by Recruiter                0 - 3 yrs   \n",
       "1272    Not Disclosed by Recruiter                0 - 3 yrs   \n",
       "1973    Not Disclosed by Recruiter                0 - 3 yrs   \n",
       "2094    Not Disclosed by Recruiter                2 - 4 yrs   \n",
       "2126    Not Disclosed by Recruiter              10 - 12 yrs   \n",
       "...                             ...                     ...   \n",
       "29704   Not Disclosed by Recruiter                3 - 8 yrs   \n",
       "29721   Not Disclosed by Recruiter                0 - 3 yrs   \n",
       "29783      2,25,000 - 4,50,000 PA.                0 - 4 yrs   \n",
       "29802      1,50,000 - 6,50,000 PA.                0 - 5 yrs   \n",
       "29906   Not Disclosed by Recruiter                0 - 1 yrs   \n",
       "\n",
       "                                              key_skills      role_category  \\\n",
       "1025    Help Desk| Customer Service| data analysis| t...              Voice   \n",
       "1272    data analysis| Customer Service| Help Desk| I...              Voice   \n",
       "1973    Help Desk| Customer Service| data analysis| t...              Voice   \n",
       "2094       teaching| Counselor| Mentor| Trainer| Advisor           Teachers   \n",
       "2126    Teaching| Educator| Counselor| Mentor| Traine...   University Level   \n",
       "...                                                  ...                ...   \n",
       "29704   Help Desk| Customer Service| customer relatio...           Teachers   \n",
       "29721   Sales Associate| Technical support| Issue| In...              Voice   \n",
       "29783   bpo| tech support| it help desk| customer rel...              Voice   \n",
       "29802   international sales| expedia| bpo| internatio...              Voice   \n",
       "29906   Customer Support| bde| freshers| Technical Su...  Technical Support   \n",
       "\n",
       "        location                                    functional_area  \n",
       "1025     Kolkata  ITES , BPO , KPO , LPO , Customer Service , Op...  \n",
       "1272     Kolkata  ITES , BPO , KPO , LPO , Customer Service , Op...  \n",
       "1973     Kolkata  ITES , BPO , KPO , LPO , Customer Service , Op...  \n",
       "2094   Bengaluru      Teaching , Education , Training , Counselling  \n",
       "2126        Pune      Teaching , Education , Training , Counselling  \n",
       "...          ...                                                ...  \n",
       "29704    Chennai      Teaching , Education , Training , Counselling  \n",
       "29721    Kolkata  ITES , BPO , KPO , LPO , Customer Service , Op...  \n",
       "29783  Bengaluru  ITES , BPO , KPO , LPO , Customer Service , Op...  \n",
       "29802  Bengaluru  ITES , BPO , KPO , LPO , Customer Service , Op...  \n",
       "29906  Bengaluru  IT Hardware , Technical Support , Telecom Engi...  \n",
       "\n",
       "[351 rows x 6 columns]"
      ]
     },
     "execution_count": 75,
     "metadata": {},
     "output_type": "execute_result"
    }
   ],
   "source": [
    "# where are them\n",
    "df[df.duplicated()]"
   ]
  },
  {
   "cell_type": "code",
   "execution_count": 76,
   "metadata": {
    "ExecuteTime": {
     "end_time": "2021-07-19T12:11:23.439586Z",
     "start_time": "2021-07-19T12:11:23.382586Z"
    }
   },
   "outputs": [],
   "source": [
    "# drop duplictes\n",
    "df.drop_duplicates(inplace= True)"
   ]
  },
  {
   "cell_type": "code",
   "execution_count": 77,
   "metadata": {
    "ExecuteTime": {
     "end_time": "2021-07-19T12:11:24.067192Z",
     "start_time": "2021-07-19T12:11:24.055122Z"
    }
   },
   "outputs": [
    {
     "data": {
      "text/plain": [
       "(26659, 6)"
      ]
     },
     "execution_count": 77,
     "metadata": {},
     "output_type": "execute_result"
    }
   ],
   "source": [
    "# check changes\n",
    "df.shape"
   ]
  },
  {
   "cell_type": "code",
   "execution_count": 78,
   "metadata": {
    "ExecuteTime": {
     "end_time": "2021-07-19T12:11:24.759279Z",
     "start_time": "2021-07-19T12:11:24.697652Z"
    }
   },
   "outputs": [
    {
     "data": {
      "text/plain": [
       "job_salary                  1039\n",
       "job_experience_required      247\n",
       "key_skills                 25292\n",
       "role_category                205\n",
       "location                    2428\n",
       "functional_area               69\n",
       "dtype: int64"
      ]
     },
     "execution_count": 78,
     "metadata": {},
     "output_type": "execute_result"
    }
   ],
   "source": [
    "# uniques\n",
    "df.nunique()"
   ]
  },
  {
   "cell_type": "code",
   "execution_count": 79,
   "metadata": {
    "ExecuteTime": {
     "end_time": "2021-07-19T12:11:25.389800Z",
     "start_time": "2021-07-19T12:11:25.368097Z"
    }
   },
   "outputs": [
    {
     "data": {
      "text/plain": [
       " Not Disclosed by Recruiter            18069\n",
       " Not Disclosed by Recruiter              616\n",
       "Openings: 1                              407\n",
       " 2,00,000 - 3,00,000 PA.                 139\n",
       " 2,00,000 - 4,00,000 PA.                 132\n",
       "                                       ...  \n",
       " Salary Open. Open for Negotiation         1\n",
       " No bar for good candidate .               1\n",
       " INR 2,25,000 - 4,00,000 PA.               1\n",
       "INR 18,00,000 - 20,00,000 PA.              1\n",
       " 60,000 - 1,50,000 PA.                     1\n",
       "Name: job_salary, Length: 1039, dtype: int64"
      ]
     },
     "execution_count": 79,
     "metadata": {},
     "output_type": "execute_result"
    }
   ],
   "source": [
    "# analyze 'job_salary' column \n",
    "df['job_salary'].value_counts()\n",
    "\n",
    "# filter rows that starts with digit or INR  - rows that contain salary"
   ]
  },
  {
   "cell_type": "code",
   "execution_count": 80,
   "metadata": {
    "ExecuteTime": {
     "end_time": "2021-07-19T12:11:26.066863Z",
     "start_time": "2021-07-19T12:11:26.040301Z"
    }
   },
   "outputs": [],
   "source": [
    "# filter those that start with 'INR' and length is 27, 28 or 29\n",
    "# first, strip\n",
    "df['job_salary'] = df['job_salary'].str.strip()"
   ]
  },
  {
   "cell_type": "code",
   "execution_count": 81,
   "metadata": {
    "ExecuteTime": {
     "end_time": "2021-07-19T12:11:26.793116Z",
     "start_time": "2021-07-19T12:11:26.692307Z"
    }
   },
   "outputs": [],
   "source": [
    "# apply filter\n",
    "df = df[(df['job_salary'].str.startswith('INR')) & (df['job_salary'].str.len() >= 27) & (df['job_salary'].str.len() < 30) | (df['job_salary'].str[0].str.isdigit())]"
   ]
  },
  {
   "cell_type": "code",
   "execution_count": 82,
   "metadata": {
    "ExecuteTime": {
     "end_time": "2021-07-19T12:11:27.405912Z",
     "start_time": "2021-07-19T12:11:27.350581Z"
    }
   },
   "outputs": [],
   "source": [
    "# extract only numbers from 'job_salary'\n",
    "df['num'] = df['job_salary'].str.findall(r'\\b\\d{1,3}(?:,\\d{3})*(?:\\.\\d+)?(?!\\d)')"
   ]
  },
  {
   "cell_type": "code",
   "execution_count": 83,
   "metadata": {
    "ExecuteTime": {
     "end_time": "2021-07-19T12:11:27.987090Z",
     "start_time": "2021-07-19T12:11:27.956015Z"
    }
   },
   "outputs": [
    {
     "data": {
      "text/html": [
       "<div>\n",
       "<style scoped>\n",
       "    .dataframe tbody tr th:only-of-type {\n",
       "        vertical-align: middle;\n",
       "    }\n",
       "\n",
       "    .dataframe tbody tr th {\n",
       "        vertical-align: top;\n",
       "    }\n",
       "\n",
       "    .dataframe thead th {\n",
       "        text-align: right;\n",
       "    }\n",
       "</style>\n",
       "<table border=\"1\" class=\"dataframe\">\n",
       "  <thead>\n",
       "    <tr style=\"text-align: right;\">\n",
       "      <th></th>\n",
       "      <th>job_salary</th>\n",
       "      <th>job_experience_required</th>\n",
       "      <th>key_skills</th>\n",
       "      <th>role_category</th>\n",
       "      <th>location</th>\n",
       "      <th>functional_area</th>\n",
       "      <th>num</th>\n",
       "    </tr>\n",
       "  </thead>\n",
       "  <tbody>\n",
       "    <tr>\n",
       "      <th>3</th>\n",
       "      <td>2,00,000 - 4,00,000 PA.</td>\n",
       "      <td>0 - 5 yrs</td>\n",
       "      <td>Technical Support</td>\n",
       "      <td>Admin/Maintenance/Security/Datawarehousing</td>\n",
       "      <td>Mumbai</td>\n",
       "      <td>IT Software - Application Programming , Mainte...</td>\n",
       "      <td>[2, 00,000, 4, 00,000]</td>\n",
       "    </tr>\n",
       "    <tr>\n",
       "      <th>5</th>\n",
       "      <td>7,00,000 - 17,00,000 PA.</td>\n",
       "      <td>5 - 7 yrs</td>\n",
       "      <td>adobe experience manager| digital| digital ma...</td>\n",
       "      <td>Programming &amp; Design</td>\n",
       "      <td>Pune</td>\n",
       "      <td>IT Software - Application Programming , Mainte...</td>\n",
       "      <td>[7, 00,000, 17, 00,000]</td>\n",
       "    </tr>\n",
       "    <tr>\n",
       "      <th>6</th>\n",
       "      <td>2,00,000 - 3,00,000 PA.</td>\n",
       "      <td>0 - 0 yrs</td>\n",
       "      <td>channel partners| real estate| negotiation| p...</td>\n",
       "      <td>Retail Sales</td>\n",
       "      <td>Bengaluru</td>\n",
       "      <td>Sales , Retail , Business Development</td>\n",
       "      <td>[2, 00,000, 3, 00,000]</td>\n",
       "    </tr>\n",
       "    <tr>\n",
       "      <th>10</th>\n",
       "      <td>25,00,000 - 35,00,000 PA.</td>\n",
       "      <td>5 - 10 yrs</td>\n",
       "      <td>secretary| executive assistant| ea</td>\n",
       "      <td>Corporate Planning/Consulting/Strategy</td>\n",
       "      <td>Mumbai</td>\n",
       "      <td>Strategy , Management Consulting , Corporate P...</td>\n",
       "      <td>[25, 00,000, 35, 00,000]</td>\n",
       "    </tr>\n",
       "    <tr>\n",
       "      <th>14</th>\n",
       "      <td>3,50,000 - 5,00,000 PA.</td>\n",
       "      <td>2 - 4 yrs</td>\n",
       "      <td>digital marketing| seo| social media marketin...</td>\n",
       "      <td>Online/Digital Marketing</td>\n",
       "      <td>Gurgaon</td>\n",
       "      <td>Marketing , Advertising , MR , PR , Media Plan...</td>\n",
       "      <td>[3, 50,000, 5, 00,000]</td>\n",
       "    </tr>\n",
       "  </tbody>\n",
       "</table>\n",
       "</div>"
      ],
      "text/plain": [
       "                   job_salary job_experience_required  \\\n",
       "3     2,00,000 - 4,00,000 PA.               0 - 5 yrs   \n",
       "5    7,00,000 - 17,00,000 PA.               5 - 7 yrs   \n",
       "6     2,00,000 - 3,00,000 PA.               0 - 0 yrs   \n",
       "10  25,00,000 - 35,00,000 PA.              5 - 10 yrs   \n",
       "14    3,50,000 - 5,00,000 PA.               2 - 4 yrs   \n",
       "\n",
       "                                           key_skills  \\\n",
       "3                                   Technical Support   \n",
       "5    adobe experience manager| digital| digital ma...   \n",
       "6    channel partners| real estate| negotiation| p...   \n",
       "10                 secretary| executive assistant| ea   \n",
       "14   digital marketing| seo| social media marketin...   \n",
       "\n",
       "                                 role_category   location  \\\n",
       "3   Admin/Maintenance/Security/Datawarehousing     Mumbai   \n",
       "5                         Programming & Design       Pune   \n",
       "6                                 Retail Sales  Bengaluru   \n",
       "10      Corporate Planning/Consulting/Strategy     Mumbai   \n",
       "14                    Online/Digital Marketing    Gurgaon   \n",
       "\n",
       "                                      functional_area  \\\n",
       "3   IT Software - Application Programming , Mainte...   \n",
       "5   IT Software - Application Programming , Mainte...   \n",
       "6               Sales , Retail , Business Development   \n",
       "10  Strategy , Management Consulting , Corporate P...   \n",
       "14  Marketing , Advertising , MR , PR , Media Plan...   \n",
       "\n",
       "                         num  \n",
       "3     [2, 00,000, 4, 00,000]  \n",
       "5    [7, 00,000, 17, 00,000]  \n",
       "6     [2, 00,000, 3, 00,000]  \n",
       "10  [25, 00,000, 35, 00,000]  \n",
       "14    [3, 50,000, 5, 00,000]  "
      ]
     },
     "execution_count": 83,
     "metadata": {},
     "output_type": "execute_result"
    }
   ],
   "source": [
    "df.head()"
   ]
  },
  {
   "cell_type": "code",
   "execution_count": 84,
   "metadata": {
    "ExecuteTime": {
     "end_time": "2021-07-19T12:11:28.643799Z",
     "start_time": "2021-07-19T12:11:28.616771Z"
    }
   },
   "outputs": [],
   "source": [
    "# col 'num' - fiter those that len == 4\n",
    "df = df[df['num'].str.len() ==4]"
   ]
  },
  {
   "cell_type": "code",
   "execution_count": 85,
   "metadata": {
    "ExecuteTime": {
     "end_time": "2021-07-19T12:11:29.262629Z",
     "start_time": "2021-07-19T12:11:29.230540Z"
    }
   },
   "outputs": [],
   "source": [
    "# join numbers from num col\n",
    "l_min = []\n",
    "l_max = []\n",
    "for row in df['num']:\n",
    "    f = row[0]+row[1]\n",
    "    s = row[2]+row[3]\n",
    "    l_min.append(f)\n",
    "    l_max.append(s)\n",
    "    \n",
    "df['min'] = l_min\n",
    "df['max'] = l_max"
   ]
  },
  {
   "cell_type": "code",
   "execution_count": 86,
   "metadata": {
    "ExecuteTime": {
     "end_time": "2021-07-19T12:11:29.912539Z",
     "start_time": "2021-07-19T12:11:29.875336Z"
    }
   },
   "outputs": [],
   "source": [
    "# clean and transform to int\n",
    "df['min'] = df['min'].str.replace(',', '').astype(int)\n",
    "df['max'] = df['max'].str.replace(',', '').astype(int)"
   ]
  },
  {
   "cell_type": "code",
   "execution_count": 87,
   "metadata": {
    "ExecuteTime": {
     "end_time": "2021-07-19T12:11:30.485974Z",
     "start_time": "2021-07-19T12:11:30.469315Z"
    }
   },
   "outputs": [],
   "source": [
    "# calculate difference\n",
    "df['salary_avg'] = df['max'] - df['min']"
   ]
  },
  {
   "cell_type": "code",
   "execution_count": 88,
   "metadata": {
    "ExecuteTime": {
     "end_time": "2021-07-19T12:11:31.117455Z",
     "start_time": "2021-07-19T12:11:31.095928Z"
    }
   },
   "outputs": [],
   "source": [
    "# drop min, max, job_salary, num\n",
    "df.drop(['min', 'max', 'job_salary', 'num'], axis=1, inplace=True)"
   ]
  },
  {
   "cell_type": "code",
   "execution_count": 89,
   "metadata": {
    "ExecuteTime": {
     "end_time": "2021-07-19T12:11:31.776599Z",
     "start_time": "2021-07-19T12:11:31.752219Z"
    }
   },
   "outputs": [
    {
     "data": {
      "text/html": [
       "<div>\n",
       "<style scoped>\n",
       "    .dataframe tbody tr th:only-of-type {\n",
       "        vertical-align: middle;\n",
       "    }\n",
       "\n",
       "    .dataframe tbody tr th {\n",
       "        vertical-align: top;\n",
       "    }\n",
       "\n",
       "    .dataframe thead th {\n",
       "        text-align: right;\n",
       "    }\n",
       "</style>\n",
       "<table border=\"1\" class=\"dataframe\">\n",
       "  <thead>\n",
       "    <tr style=\"text-align: right;\">\n",
       "      <th></th>\n",
       "      <th>job_experience_required</th>\n",
       "      <th>key_skills</th>\n",
       "      <th>role_category</th>\n",
       "      <th>location</th>\n",
       "      <th>functional_area</th>\n",
       "      <th>salary_avg</th>\n",
       "    </tr>\n",
       "  </thead>\n",
       "  <tbody>\n",
       "    <tr>\n",
       "      <th>3</th>\n",
       "      <td>0 - 5 yrs</td>\n",
       "      <td>Technical Support</td>\n",
       "      <td>Admin/Maintenance/Security/Datawarehousing</td>\n",
       "      <td>Mumbai</td>\n",
       "      <td>IT Software - Application Programming , Mainte...</td>\n",
       "      <td>200000</td>\n",
       "    </tr>\n",
       "    <tr>\n",
       "      <th>5</th>\n",
       "      <td>5 - 7 yrs</td>\n",
       "      <td>adobe experience manager| digital| digital ma...</td>\n",
       "      <td>Programming &amp; Design</td>\n",
       "      <td>Pune</td>\n",
       "      <td>IT Software - Application Programming , Mainte...</td>\n",
       "      <td>1000000</td>\n",
       "    </tr>\n",
       "    <tr>\n",
       "      <th>6</th>\n",
       "      <td>0 - 0 yrs</td>\n",
       "      <td>channel partners| real estate| negotiation| p...</td>\n",
       "      <td>Retail Sales</td>\n",
       "      <td>Bengaluru</td>\n",
       "      <td>Sales , Retail , Business Development</td>\n",
       "      <td>100000</td>\n",
       "    </tr>\n",
       "    <tr>\n",
       "      <th>10</th>\n",
       "      <td>5 - 10 yrs</td>\n",
       "      <td>secretary| executive assistant| ea</td>\n",
       "      <td>Corporate Planning/Consulting/Strategy</td>\n",
       "      <td>Mumbai</td>\n",
       "      <td>Strategy , Management Consulting , Corporate P...</td>\n",
       "      <td>1000000</td>\n",
       "    </tr>\n",
       "    <tr>\n",
       "      <th>14</th>\n",
       "      <td>2 - 4 yrs</td>\n",
       "      <td>digital marketing| seo| social media marketin...</td>\n",
       "      <td>Online/Digital Marketing</td>\n",
       "      <td>Gurgaon</td>\n",
       "      <td>Marketing , Advertising , MR , PR , Media Plan...</td>\n",
       "      <td>150000</td>\n",
       "    </tr>\n",
       "  </tbody>\n",
       "</table>\n",
       "</div>"
      ],
      "text/plain": [
       "   job_experience_required                                         key_skills  \\\n",
       "3                0 - 5 yrs                                  Technical Support   \n",
       "5                5 - 7 yrs   adobe experience manager| digital| digital ma...   \n",
       "6                0 - 0 yrs   channel partners| real estate| negotiation| p...   \n",
       "10              5 - 10 yrs                 secretary| executive assistant| ea   \n",
       "14               2 - 4 yrs   digital marketing| seo| social media marketin...   \n",
       "\n",
       "                                 role_category   location  \\\n",
       "3   Admin/Maintenance/Security/Datawarehousing     Mumbai   \n",
       "5                         Programming & Design       Pune   \n",
       "6                                 Retail Sales  Bengaluru   \n",
       "10      Corporate Planning/Consulting/Strategy     Mumbai   \n",
       "14                    Online/Digital Marketing    Gurgaon   \n",
       "\n",
       "                                      functional_area  salary_avg  \n",
       "3   IT Software - Application Programming , Mainte...      200000  \n",
       "5   IT Software - Application Programming , Mainte...     1000000  \n",
       "6               Sales , Retail , Business Development      100000  \n",
       "10  Strategy , Management Consulting , Corporate P...     1000000  \n",
       "14  Marketing , Advertising , MR , PR , Media Plan...      150000  "
      ]
     },
     "execution_count": 89,
     "metadata": {},
     "output_type": "execute_result"
    }
   ],
   "source": [
    "df.head()"
   ]
  },
  {
   "cell_type": "code",
   "execution_count": 90,
   "metadata": {
    "ExecuteTime": {
     "end_time": "2021-07-19T12:11:32.413342Z",
     "start_time": "2021-07-19T12:11:32.378222Z"
    }
   },
   "outputs": [],
   "source": [
    "# get avg of years from 'job_expereience_required' column\n",
    "# extract only integers\n",
    "df['num'] = df['job_experience_required'].str.findall(r'\\b\\d{1,3}(?:,\\d{3})*(?:\\.\\d+)?(?!\\d)')"
   ]
  },
  {
   "cell_type": "code",
   "execution_count": 91,
   "metadata": {
    "ExecuteTime": {
     "end_time": "2021-07-19T12:11:33.032124Z",
     "start_time": "2021-07-19T12:11:33.011788Z"
    }
   },
   "outputs": [],
   "source": [
    "# filter rows by length\n",
    "df = df[df['num'].str.len() ==2]"
   ]
  },
  {
   "cell_type": "code",
   "execution_count": 92,
   "metadata": {
    "ExecuteTime": {
     "end_time": "2021-07-19T12:11:33.659854Z",
     "start_time": "2021-07-19T12:11:33.641846Z"
    }
   },
   "outputs": [],
   "source": [
    "# get min and max value\n",
    "list_min = []\n",
    "list_max = []\n",
    "for row in df['num']:\n",
    "    list_min.append(row[0])\n",
    "    list_max.append(row[1])\n",
    "df['min'] = list_min\n",
    "df['max'] = list_max"
   ]
  },
  {
   "cell_type": "code",
   "execution_count": 93,
   "metadata": {
    "ExecuteTime": {
     "end_time": "2021-07-19T12:11:34.270465Z",
     "start_time": "2021-07-19T12:11:34.253608Z"
    }
   },
   "outputs": [],
   "source": [
    "# get min and max value\n",
    "list_min = []\n",
    "list_max = []\n",
    "for row in df['num']:\n",
    "    list_min.append(row[0])\n",
    "    list_max.append(row[1])\n",
    "df['min'] = list_min\n",
    "df['max'] = list_max"
   ]
  },
  {
   "cell_type": "code",
   "execution_count": 94,
   "metadata": {
    "ExecuteTime": {
     "end_time": "2021-07-19T12:11:34.886250Z",
     "start_time": "2021-07-19T12:11:34.872441Z"
    }
   },
   "outputs": [],
   "source": [
    "# transform to int\n",
    "df['min']=df['min'].astype(int)\n",
    "df['max']=df['max'].astype(int)"
   ]
  },
  {
   "cell_type": "code",
   "execution_count": 95,
   "metadata": {
    "ExecuteTime": {
     "end_time": "2021-07-19T12:11:35.535447Z",
     "start_time": "2021-07-19T12:11:35.516728Z"
    }
   },
   "outputs": [],
   "source": [
    "# calculate avg\n",
    "df['exp_lvl_avg'] = (df['max'] + df['min']) / 2"
   ]
  },
  {
   "cell_type": "code",
   "execution_count": 96,
   "metadata": {
    "ExecuteTime": {
     "end_time": "2021-07-19T12:11:36.157827Z",
     "start_time": "2021-07-19T12:11:36.147023Z"
    }
   },
   "outputs": [],
   "source": [
    "# filter avg_job_exp\n",
    "df = df[df['exp_lvl_avg'] > 0]"
   ]
  },
  {
   "cell_type": "code",
   "execution_count": 97,
   "metadata": {
    "ExecuteTime": {
     "end_time": "2021-07-19T12:11:36.796280Z",
     "start_time": "2021-07-19T12:11:36.768937Z"
    }
   },
   "outputs": [],
   "source": [
    "# drop cols\n",
    "df.drop(['min', 'max', 'num', 'job_experience_required'], axis=1, inplace=True)"
   ]
  },
  {
   "cell_type": "code",
   "execution_count": 98,
   "metadata": {
    "ExecuteTime": {
     "end_time": "2021-07-19T12:11:38.514906Z",
     "start_time": "2021-07-19T12:11:38.486782Z"
    }
   },
   "outputs": [
    {
     "data": {
      "text/html": [
       "<div>\n",
       "<style scoped>\n",
       "    .dataframe tbody tr th:only-of-type {\n",
       "        vertical-align: middle;\n",
       "    }\n",
       "\n",
       "    .dataframe tbody tr th {\n",
       "        vertical-align: top;\n",
       "    }\n",
       "\n",
       "    .dataframe thead th {\n",
       "        text-align: right;\n",
       "    }\n",
       "</style>\n",
       "<table border=\"1\" class=\"dataframe\">\n",
       "  <thead>\n",
       "    <tr style=\"text-align: right;\">\n",
       "      <th></th>\n",
       "      <th>key_skills</th>\n",
       "      <th>role_category</th>\n",
       "      <th>location</th>\n",
       "      <th>functional_area</th>\n",
       "      <th>salary_avg</th>\n",
       "      <th>exp_lvl_avg</th>\n",
       "    </tr>\n",
       "  </thead>\n",
       "  <tbody>\n",
       "    <tr>\n",
       "      <th>3</th>\n",
       "      <td>Technical Support</td>\n",
       "      <td>Admin/Maintenance/Security/Datawarehousing</td>\n",
       "      <td>Mumbai</td>\n",
       "      <td>IT Software - Application Programming , Mainte...</td>\n",
       "      <td>200000</td>\n",
       "      <td>2.5</td>\n",
       "    </tr>\n",
       "    <tr>\n",
       "      <th>5</th>\n",
       "      <td>adobe experience manager| digital| digital ma...</td>\n",
       "      <td>Programming &amp; Design</td>\n",
       "      <td>Pune</td>\n",
       "      <td>IT Software - Application Programming , Mainte...</td>\n",
       "      <td>1000000</td>\n",
       "      <td>6.0</td>\n",
       "    </tr>\n",
       "    <tr>\n",
       "      <th>10</th>\n",
       "      <td>secretary| executive assistant| ea</td>\n",
       "      <td>Corporate Planning/Consulting/Strategy</td>\n",
       "      <td>Mumbai</td>\n",
       "      <td>Strategy , Management Consulting , Corporate P...</td>\n",
       "      <td>1000000</td>\n",
       "      <td>7.5</td>\n",
       "    </tr>\n",
       "    <tr>\n",
       "      <th>14</th>\n",
       "      <td>digital marketing| seo| social media marketin...</td>\n",
       "      <td>Online/Digital Marketing</td>\n",
       "      <td>Gurgaon</td>\n",
       "      <td>Marketing , Advertising , MR , PR , Media Plan...</td>\n",
       "      <td>150000</td>\n",
       "      <td>3.0</td>\n",
       "    </tr>\n",
       "    <tr>\n",
       "      <th>20</th>\n",
       "      <td>sales manager| business development manager| ...</td>\n",
       "      <td>Retail/Personal Banking</td>\n",
       "      <td>Bhilai/Bhillai,Bhilwara,Bhopal,Bhubaneshwar,Bi...</td>\n",
       "      <td>Financial Services , Banking , Investments , I...</td>\n",
       "      <td>225000</td>\n",
       "      <td>5.0</td>\n",
       "    </tr>\n",
       "  </tbody>\n",
       "</table>\n",
       "</div>"
      ],
      "text/plain": [
       "                                           key_skills  \\\n",
       "3                                   Technical Support   \n",
       "5    adobe experience manager| digital| digital ma...   \n",
       "10                 secretary| executive assistant| ea   \n",
       "14   digital marketing| seo| social media marketin...   \n",
       "20   sales manager| business development manager| ...   \n",
       "\n",
       "                                 role_category  \\\n",
       "3   Admin/Maintenance/Security/Datawarehousing   \n",
       "5                         Programming & Design   \n",
       "10      Corporate Planning/Consulting/Strategy   \n",
       "14                    Online/Digital Marketing   \n",
       "20                     Retail/Personal Banking   \n",
       "\n",
       "                                             location  \\\n",
       "3                                              Mumbai   \n",
       "5                                                Pune   \n",
       "10                                             Mumbai   \n",
       "14                                            Gurgaon   \n",
       "20  Bhilai/Bhillai,Bhilwara,Bhopal,Bhubaneshwar,Bi...   \n",
       "\n",
       "                                      functional_area  salary_avg  exp_lvl_avg  \n",
       "3   IT Software - Application Programming , Mainte...      200000          2.5  \n",
       "5   IT Software - Application Programming , Mainte...     1000000          6.0  \n",
       "10  Strategy , Management Consulting , Corporate P...     1000000          7.5  \n",
       "14  Marketing , Advertising , MR , PR , Media Plan...      150000          3.0  \n",
       "20  Financial Services , Banking , Investments , I...      225000          5.0  "
      ]
     },
     "execution_count": 98,
     "metadata": {},
     "output_type": "execute_result"
    }
   ],
   "source": [
    "df.head()"
   ]
  },
  {
   "cell_type": "code",
   "execution_count": 99,
   "metadata": {
    "ExecuteTime": {
     "end_time": "2021-07-19T12:11:39.128611Z",
     "start_time": "2021-07-19T12:11:39.112583Z"
    }
   },
   "outputs": [],
   "source": [
    "# Bin edges that will be used to \"cut\" the data into groups\n",
    "bin_edges = [25000, 125000, 225000, 450000, 4000000] # min to max\n",
    "\n",
    "# Labels for the four acidity level groups\n",
    "bin_names = ['low', 'medium', 'high', 'very high'] # Name each acidity level category\n",
    "\n",
    "df['salary_group'] = pd.cut(df['salary_avg'], bin_edges, labels=bin_names)"
   ]
  },
  {
   "cell_type": "code",
   "execution_count": 100,
   "metadata": {
    "ExecuteTime": {
     "end_time": "2021-07-19T12:11:39.899324Z",
     "start_time": "2021-07-19T12:11:39.879726Z"
    }
   },
   "outputs": [],
   "source": [
    "# Bin edges that will be used to \"cut\" the data into groups\n",
    "bin_edge = [0.5, 2.5, 3.5, 6, 26] # min to max\n",
    "\n",
    "# Labels for the four acidity level groups\n",
    "bin_name = ['junior', 'middle', 'senior', 'manager+'] # Name each acidity level category\n",
    "\n",
    "df['experience_group'] = pd.cut(df['exp_lvl_avg'], bin_edge, labels=bin_name)"
   ]
  },
  {
   "cell_type": "code",
   "execution_count": 101,
   "metadata": {
    "ExecuteTime": {
     "end_time": "2021-07-19T12:11:40.892373Z",
     "start_time": "2021-07-19T12:11:40.867248Z"
    }
   },
   "outputs": [
    {
     "data": {
      "text/html": [
       "<div>\n",
       "<style scoped>\n",
       "    .dataframe tbody tr th:only-of-type {\n",
       "        vertical-align: middle;\n",
       "    }\n",
       "\n",
       "    .dataframe tbody tr th {\n",
       "        vertical-align: top;\n",
       "    }\n",
       "\n",
       "    .dataframe thead th {\n",
       "        text-align: right;\n",
       "    }\n",
       "</style>\n",
       "<table border=\"1\" class=\"dataframe\">\n",
       "  <thead>\n",
       "    <tr style=\"text-align: right;\">\n",
       "      <th></th>\n",
       "      <th>key_skills</th>\n",
       "      <th>role_category</th>\n",
       "      <th>location</th>\n",
       "      <th>functional_area</th>\n",
       "      <th>salary_avg</th>\n",
       "      <th>exp_lvl_avg</th>\n",
       "      <th>salary_group</th>\n",
       "      <th>experience_group</th>\n",
       "    </tr>\n",
       "  </thead>\n",
       "  <tbody>\n",
       "    <tr>\n",
       "      <th>3</th>\n",
       "      <td>Technical Support</td>\n",
       "      <td>Admin/Maintenance/Security/Datawarehousing</td>\n",
       "      <td>Mumbai</td>\n",
       "      <td>IT Software - Application Programming , Mainte...</td>\n",
       "      <td>200000</td>\n",
       "      <td>2.5</td>\n",
       "      <td>medium</td>\n",
       "      <td>junior</td>\n",
       "    </tr>\n",
       "    <tr>\n",
       "      <th>5</th>\n",
       "      <td>adobe experience manager| digital| digital ma...</td>\n",
       "      <td>Programming &amp; Design</td>\n",
       "      <td>Pune</td>\n",
       "      <td>IT Software - Application Programming , Mainte...</td>\n",
       "      <td>1000000</td>\n",
       "      <td>6.0</td>\n",
       "      <td>very high</td>\n",
       "      <td>senior</td>\n",
       "    </tr>\n",
       "    <tr>\n",
       "      <th>10</th>\n",
       "      <td>secretary| executive assistant| ea</td>\n",
       "      <td>Corporate Planning/Consulting/Strategy</td>\n",
       "      <td>Mumbai</td>\n",
       "      <td>Strategy , Management Consulting , Corporate P...</td>\n",
       "      <td>1000000</td>\n",
       "      <td>7.5</td>\n",
       "      <td>very high</td>\n",
       "      <td>manager+</td>\n",
       "    </tr>\n",
       "    <tr>\n",
       "      <th>14</th>\n",
       "      <td>digital marketing| seo| social media marketin...</td>\n",
       "      <td>Online/Digital Marketing</td>\n",
       "      <td>Gurgaon</td>\n",
       "      <td>Marketing , Advertising , MR , PR , Media Plan...</td>\n",
       "      <td>150000</td>\n",
       "      <td>3.0</td>\n",
       "      <td>medium</td>\n",
       "      <td>middle</td>\n",
       "    </tr>\n",
       "    <tr>\n",
       "      <th>20</th>\n",
       "      <td>sales manager| business development manager| ...</td>\n",
       "      <td>Retail/Personal Banking</td>\n",
       "      <td>Bhilai/Bhillai,Bhilwara,Bhopal,Bhubaneshwar,Bi...</td>\n",
       "      <td>Financial Services , Banking , Investments , I...</td>\n",
       "      <td>225000</td>\n",
       "      <td>5.0</td>\n",
       "      <td>medium</td>\n",
       "      <td>senior</td>\n",
       "    </tr>\n",
       "  </tbody>\n",
       "</table>\n",
       "</div>"
      ],
      "text/plain": [
       "                                           key_skills  \\\n",
       "3                                   Technical Support   \n",
       "5    adobe experience manager| digital| digital ma...   \n",
       "10                 secretary| executive assistant| ea   \n",
       "14   digital marketing| seo| social media marketin...   \n",
       "20   sales manager| business development manager| ...   \n",
       "\n",
       "                                 role_category  \\\n",
       "3   Admin/Maintenance/Security/Datawarehousing   \n",
       "5                         Programming & Design   \n",
       "10      Corporate Planning/Consulting/Strategy   \n",
       "14                    Online/Digital Marketing   \n",
       "20                     Retail/Personal Banking   \n",
       "\n",
       "                                             location  \\\n",
       "3                                              Mumbai   \n",
       "5                                                Pune   \n",
       "10                                             Mumbai   \n",
       "14                                            Gurgaon   \n",
       "20  Bhilai/Bhillai,Bhilwara,Bhopal,Bhubaneshwar,Bi...   \n",
       "\n",
       "                                      functional_area  salary_avg  \\\n",
       "3   IT Software - Application Programming , Mainte...      200000   \n",
       "5   IT Software - Application Programming , Mainte...     1000000   \n",
       "10  Strategy , Management Consulting , Corporate P...     1000000   \n",
       "14  Marketing , Advertising , MR , PR , Media Plan...      150000   \n",
       "20  Financial Services , Banking , Investments , I...      225000   \n",
       "\n",
       "    exp_lvl_avg salary_group experience_group  \n",
       "3           2.5       medium           junior  \n",
       "5           6.0    very high           senior  \n",
       "10          7.5    very high         manager+  \n",
       "14          3.0       medium           middle  \n",
       "20          5.0       medium           senior  "
      ]
     },
     "execution_count": 101,
     "metadata": {},
     "output_type": "execute_result"
    }
   ],
   "source": [
    "df.head()"
   ]
  },
  {
   "cell_type": "code",
   "execution_count": 102,
   "metadata": {
    "ExecuteTime": {
     "end_time": "2021-07-19T12:11:42.127734Z",
     "start_time": "2021-07-19T12:11:42.111184Z"
    }
   },
   "outputs": [],
   "source": [
    "# strip values from functional_area\n",
    "df['functional_area'] = df['functional_area'].str.strip()"
   ]
  },
  {
   "cell_type": "code",
   "execution_count": 103,
   "metadata": {
    "ExecuteTime": {
     "end_time": "2021-07-19T12:11:44.931216Z",
     "start_time": "2021-07-19T12:11:44.917896Z"
    }
   },
   "outputs": [],
   "source": [
    "# filter functional_area by value_counts\n",
    "m=df['functional_area'].value_counts() > 3\n",
    "df = df[df['functional_area'].isin(m[m].index)]"
   ]
  },
  {
   "cell_type": "code",
   "execution_count": 104,
   "metadata": {
    "ExecuteTime": {
     "end_time": "2021-07-19T12:11:46.102890Z",
     "start_time": "2021-07-19T12:11:46.087379Z"
    }
   },
   "outputs": [],
   "source": [
    "# change to 'IT' if entry starts with 'IT'\n",
    "df['functional_area'] = df['functional_area'].map(lambda s: 'IT' if s.startswith('IT ') else s)"
   ]
  },
  {
   "cell_type": "code",
   "execution_count": 105,
   "metadata": {
    "ExecuteTime": {
     "end_time": "2021-07-19T12:11:47.800259Z",
     "start_time": "2021-07-19T12:11:47.774675Z"
    }
   },
   "outputs": [],
   "source": [
    "# filter by value_count()\n",
    "p = df['functional_area'].value_counts() > 4\n",
    "df = df[df['functional_area'].isin(p[p].index)]"
   ]
  },
  {
   "cell_type": "code",
   "execution_count": 106,
   "metadata": {
    "ExecuteTime": {
     "end_time": "2021-07-19T12:11:48.438708Z",
     "start_time": "2021-07-19T12:11:48.419571Z"
    }
   },
   "outputs": [],
   "source": [
    "# exclude row start with 'other'\n",
    "df = df[~df['functional_area'].str.startswith('Other')]"
   ]
  },
  {
   "cell_type": "code",
   "execution_count": 107,
   "metadata": {
    "ExecuteTime": {
     "end_time": "2021-07-19T12:11:50.289981Z",
     "start_time": "2021-07-19T12:11:50.256600Z"
    }
   },
   "outputs": [],
   "source": [
    "# replace values\n",
    "df['functional_area'] = df['functional_area'].replace({'/':'', \",\": \"\"}, regex=True)"
   ]
  },
  {
   "cell_type": "code",
   "execution_count": 108,
   "metadata": {
    "ExecuteTime": {
     "end_time": "2021-07-19T12:11:58.687959Z",
     "start_time": "2021-07-19T12:11:58.657772Z"
    }
   },
   "outputs": [],
   "source": [
    "# strip \n",
    "df['functional_area'] = df['functional_area'].str.split()"
   ]
  },
  {
   "cell_type": "code",
   "execution_count": 109,
   "metadata": {
    "ExecuteTime": {
     "end_time": "2021-07-19T12:12:09.560130Z",
     "start_time": "2021-07-19T12:12:09.535274Z"
    }
   },
   "outputs": [],
   "source": [
    "# get only two first values from functional_area\n",
    "df['functional_area'] = df['functional_area'].str.slice(start=0, stop=2).apply(' & '.join)"
   ]
  },
  {
   "cell_type": "code",
   "execution_count": 110,
   "metadata": {
    "ExecuteTime": {
     "end_time": "2021-07-19T12:12:33.006223Z",
     "start_time": "2021-07-19T12:12:32.971441Z"
    }
   },
   "outputs": [
    {
     "data": {
      "text/html": [
       "<div>\n",
       "<style scoped>\n",
       "    .dataframe tbody tr th:only-of-type {\n",
       "        vertical-align: middle;\n",
       "    }\n",
       "\n",
       "    .dataframe tbody tr th {\n",
       "        vertical-align: top;\n",
       "    }\n",
       "\n",
       "    .dataframe thead th {\n",
       "        text-align: right;\n",
       "    }\n",
       "</style>\n",
       "<table border=\"1\" class=\"dataframe\">\n",
       "  <thead>\n",
       "    <tr style=\"text-align: right;\">\n",
       "      <th></th>\n",
       "      <th>key_skills</th>\n",
       "      <th>role_category</th>\n",
       "      <th>location</th>\n",
       "      <th>functional_area</th>\n",
       "      <th>salary_avg</th>\n",
       "      <th>exp_lvl_avg</th>\n",
       "      <th>salary_group</th>\n",
       "      <th>experience_group</th>\n",
       "    </tr>\n",
       "  </thead>\n",
       "  <tbody>\n",
       "    <tr>\n",
       "      <th>3</th>\n",
       "      <td>Technical Support</td>\n",
       "      <td>Admin/Maintenance/Security/Datawarehousing</td>\n",
       "      <td>Mumbai</td>\n",
       "      <td>IT</td>\n",
       "      <td>200000</td>\n",
       "      <td>2.5</td>\n",
       "      <td>medium</td>\n",
       "      <td>junior</td>\n",
       "    </tr>\n",
       "    <tr>\n",
       "      <th>5</th>\n",
       "      <td>adobe experience manager| digital| digital ma...</td>\n",
       "      <td>Programming &amp; Design</td>\n",
       "      <td>Pune</td>\n",
       "      <td>IT</td>\n",
       "      <td>1000000</td>\n",
       "      <td>6.0</td>\n",
       "      <td>very high</td>\n",
       "      <td>senior</td>\n",
       "    </tr>\n",
       "    <tr>\n",
       "      <th>10</th>\n",
       "      <td>secretary| executive assistant| ea</td>\n",
       "      <td>Corporate Planning/Consulting/Strategy</td>\n",
       "      <td>Mumbai</td>\n",
       "      <td>Strategy &amp; Management</td>\n",
       "      <td>1000000</td>\n",
       "      <td>7.5</td>\n",
       "      <td>very high</td>\n",
       "      <td>manager+</td>\n",
       "    </tr>\n",
       "    <tr>\n",
       "      <th>14</th>\n",
       "      <td>digital marketing| seo| social media marketin...</td>\n",
       "      <td>Online/Digital Marketing</td>\n",
       "      <td>Gurgaon</td>\n",
       "      <td>Marketing &amp; Advertising</td>\n",
       "      <td>150000</td>\n",
       "      <td>3.0</td>\n",
       "      <td>medium</td>\n",
       "      <td>middle</td>\n",
       "    </tr>\n",
       "    <tr>\n",
       "      <th>20</th>\n",
       "      <td>sales manager| business development manager| ...</td>\n",
       "      <td>Retail/Personal Banking</td>\n",
       "      <td>Bhilai/Bhillai,Bhilwara,Bhopal,Bhubaneshwar,Bi...</td>\n",
       "      <td>Financial &amp; Services</td>\n",
       "      <td>225000</td>\n",
       "      <td>5.0</td>\n",
       "      <td>medium</td>\n",
       "      <td>senior</td>\n",
       "    </tr>\n",
       "  </tbody>\n",
       "</table>\n",
       "</div>"
      ],
      "text/plain": [
       "                                           key_skills  \\\n",
       "3                                   Technical Support   \n",
       "5    adobe experience manager| digital| digital ma...   \n",
       "10                 secretary| executive assistant| ea   \n",
       "14   digital marketing| seo| social media marketin...   \n",
       "20   sales manager| business development manager| ...   \n",
       "\n",
       "                                 role_category  \\\n",
       "3   Admin/Maintenance/Security/Datawarehousing   \n",
       "5                         Programming & Design   \n",
       "10      Corporate Planning/Consulting/Strategy   \n",
       "14                    Online/Digital Marketing   \n",
       "20                     Retail/Personal Banking   \n",
       "\n",
       "                                             location  \\\n",
       "3                                              Mumbai   \n",
       "5                                                Pune   \n",
       "10                                             Mumbai   \n",
       "14                                            Gurgaon   \n",
       "20  Bhilai/Bhillai,Bhilwara,Bhopal,Bhubaneshwar,Bi...   \n",
       "\n",
       "            functional_area  salary_avg  exp_lvl_avg salary_group  \\\n",
       "3                        IT      200000          2.5       medium   \n",
       "5                        IT     1000000          6.0    very high   \n",
       "10    Strategy & Management     1000000          7.5    very high   \n",
       "14  Marketing & Advertising      150000          3.0       medium   \n",
       "20     Financial & Services      225000          5.0       medium   \n",
       "\n",
       "   experience_group  \n",
       "3            junior  \n",
       "5            senior  \n",
       "10         manager+  \n",
       "14           middle  \n",
       "20           senior  "
      ]
     },
     "execution_count": 110,
     "metadata": {},
     "output_type": "execute_result"
    }
   ],
   "source": [
    "df.head()"
   ]
  },
  {
   "cell_type": "code",
   "execution_count": 111,
   "metadata": {
    "ExecuteTime": {
     "end_time": "2021-07-19T12:12:50.249985Z",
     "start_time": "2021-07-19T12:12:50.226733Z"
    }
   },
   "outputs": [],
   "source": [
    "# 'location' column - strip values\n",
    "df['location'] = df['location'].str.strip()"
   ]
  },
  {
   "cell_type": "code",
   "execution_count": 112,
   "metadata": {
    "ExecuteTime": {
     "end_time": "2021-07-19T12:12:51.057214Z",
     "start_time": "2021-07-19T12:12:51.034974Z"
    }
   },
   "outputs": [],
   "source": [
    "# remove what is inside parenthesis\n",
    "df['location']=df['location'].str.replace(r'\\([^)]*\\)', '', regex=True)"
   ]
  },
  {
   "cell_type": "code",
   "execution_count": 113,
   "metadata": {
    "ExecuteTime": {
     "end_time": "2021-07-19T12:12:51.617536Z",
     "start_time": "2021-07-19T12:12:51.583526Z"
    }
   },
   "outputs": [],
   "source": [
    "# split ds by ','\n",
    "df['location']=df['location'].str.split(',')"
   ]
  },
  {
   "cell_type": "code",
   "execution_count": 114,
   "metadata": {
    "ExecuteTime": {
     "end_time": "2021-07-19T12:12:52.149626Z",
     "start_time": "2021-07-19T12:12:52.139386Z"
    }
   },
   "outputs": [],
   "source": [
    "# get first name\n",
    "df['location']=df['location'].map(lambda x: x[0])"
   ]
  },
  {
   "cell_type": "code",
   "execution_count": 115,
   "metadata": {
    "ExecuteTime": {
     "end_time": "2021-07-19T12:12:52.802029Z",
     "start_time": "2021-07-19T12:12:52.760658Z"
    }
   },
   "outputs": [
    {
     "data": {
      "text/html": [
       "<div>\n",
       "<style scoped>\n",
       "    .dataframe tbody tr th:only-of-type {\n",
       "        vertical-align: middle;\n",
       "    }\n",
       "\n",
       "    .dataframe tbody tr th {\n",
       "        vertical-align: top;\n",
       "    }\n",
       "\n",
       "    .dataframe thead th {\n",
       "        text-align: right;\n",
       "    }\n",
       "</style>\n",
       "<table border=\"1\" class=\"dataframe\">\n",
       "  <thead>\n",
       "    <tr style=\"text-align: right;\">\n",
       "      <th></th>\n",
       "      <th>key_skills</th>\n",
       "      <th>role_category</th>\n",
       "      <th>location</th>\n",
       "      <th>functional_area</th>\n",
       "      <th>salary_avg</th>\n",
       "      <th>exp_lvl_avg</th>\n",
       "      <th>salary_group</th>\n",
       "      <th>experience_group</th>\n",
       "    </tr>\n",
       "  </thead>\n",
       "  <tbody>\n",
       "    <tr>\n",
       "      <th>3</th>\n",
       "      <td>Technical Support</td>\n",
       "      <td>Admin/Maintenance/Security/Datawarehousing</td>\n",
       "      <td>Mumbai</td>\n",
       "      <td>IT</td>\n",
       "      <td>200000</td>\n",
       "      <td>2.5</td>\n",
       "      <td>medium</td>\n",
       "      <td>junior</td>\n",
       "    </tr>\n",
       "    <tr>\n",
       "      <th>5</th>\n",
       "      <td>adobe experience manager| digital| digital ma...</td>\n",
       "      <td>Programming &amp; Design</td>\n",
       "      <td>Pune</td>\n",
       "      <td>IT</td>\n",
       "      <td>1000000</td>\n",
       "      <td>6.0</td>\n",
       "      <td>very high</td>\n",
       "      <td>senior</td>\n",
       "    </tr>\n",
       "    <tr>\n",
       "      <th>10</th>\n",
       "      <td>secretary| executive assistant| ea</td>\n",
       "      <td>Corporate Planning/Consulting/Strategy</td>\n",
       "      <td>Mumbai</td>\n",
       "      <td>Strategy &amp; Management</td>\n",
       "      <td>1000000</td>\n",
       "      <td>7.5</td>\n",
       "      <td>very high</td>\n",
       "      <td>manager+</td>\n",
       "    </tr>\n",
       "    <tr>\n",
       "      <th>14</th>\n",
       "      <td>digital marketing| seo| social media marketin...</td>\n",
       "      <td>Online/Digital Marketing</td>\n",
       "      <td>Gurgaon</td>\n",
       "      <td>Marketing &amp; Advertising</td>\n",
       "      <td>150000</td>\n",
       "      <td>3.0</td>\n",
       "      <td>medium</td>\n",
       "      <td>middle</td>\n",
       "    </tr>\n",
       "    <tr>\n",
       "      <th>20</th>\n",
       "      <td>sales manager| business development manager| ...</td>\n",
       "      <td>Retail/Personal Banking</td>\n",
       "      <td>Bhilai/Bhillai</td>\n",
       "      <td>Financial &amp; Services</td>\n",
       "      <td>225000</td>\n",
       "      <td>5.0</td>\n",
       "      <td>medium</td>\n",
       "      <td>senior</td>\n",
       "    </tr>\n",
       "  </tbody>\n",
       "</table>\n",
       "</div>"
      ],
      "text/plain": [
       "                                           key_skills  \\\n",
       "3                                   Technical Support   \n",
       "5    adobe experience manager| digital| digital ma...   \n",
       "10                 secretary| executive assistant| ea   \n",
       "14   digital marketing| seo| social media marketin...   \n",
       "20   sales manager| business development manager| ...   \n",
       "\n",
       "                                 role_category        location  \\\n",
       "3   Admin/Maintenance/Security/Datawarehousing          Mumbai   \n",
       "5                         Programming & Design            Pune   \n",
       "10      Corporate Planning/Consulting/Strategy          Mumbai   \n",
       "14                    Online/Digital Marketing         Gurgaon   \n",
       "20                     Retail/Personal Banking  Bhilai/Bhillai   \n",
       "\n",
       "            functional_area  salary_avg  exp_lvl_avg salary_group  \\\n",
       "3                        IT      200000          2.5       medium   \n",
       "5                        IT     1000000          6.0    very high   \n",
       "10    Strategy & Management     1000000          7.5    very high   \n",
       "14  Marketing & Advertising      150000          3.0       medium   \n",
       "20     Financial & Services      225000          5.0       medium   \n",
       "\n",
       "   experience_group  \n",
       "3            junior  \n",
       "5            senior  \n",
       "10         manager+  \n",
       "14           middle  \n",
       "20           senior  "
      ]
     },
     "execution_count": 115,
     "metadata": {},
     "output_type": "execute_result"
    }
   ],
   "source": [
    "df.head()"
   ]
  },
  {
   "cell_type": "code",
   "execution_count": 116,
   "metadata": {
    "ExecuteTime": {
     "end_time": "2021-07-19T12:12:53.271594Z",
     "start_time": "2021-07-19T12:12:53.255888Z"
    }
   },
   "outputs": [],
   "source": [
    "df['location']=df['location'].str.split(' ')"
   ]
  },
  {
   "cell_type": "code",
   "execution_count": 117,
   "metadata": {
    "ExecuteTime": {
     "end_time": "2021-07-19T12:12:53.817739Z",
     "start_time": "2021-07-19T12:12:53.794408Z"
    }
   },
   "outputs": [],
   "source": [
    "df['location']=df['location'].map(lambda x: x[0])"
   ]
  },
  {
   "cell_type": "code",
   "execution_count": 118,
   "metadata": {
    "ExecuteTime": {
     "end_time": "2021-07-19T12:12:54.382412Z",
     "start_time": "2021-07-19T12:12:54.347490Z"
    }
   },
   "outputs": [
    {
     "data": {
      "text/html": [
       "<div>\n",
       "<style scoped>\n",
       "    .dataframe tbody tr th:only-of-type {\n",
       "        vertical-align: middle;\n",
       "    }\n",
       "\n",
       "    .dataframe tbody tr th {\n",
       "        vertical-align: top;\n",
       "    }\n",
       "\n",
       "    .dataframe thead th {\n",
       "        text-align: right;\n",
       "    }\n",
       "</style>\n",
       "<table border=\"1\" class=\"dataframe\">\n",
       "  <thead>\n",
       "    <tr style=\"text-align: right;\">\n",
       "      <th></th>\n",
       "      <th>key_skills</th>\n",
       "      <th>role_category</th>\n",
       "      <th>location</th>\n",
       "      <th>functional_area</th>\n",
       "      <th>salary_avg</th>\n",
       "      <th>exp_lvl_avg</th>\n",
       "      <th>salary_group</th>\n",
       "      <th>experience_group</th>\n",
       "    </tr>\n",
       "  </thead>\n",
       "  <tbody>\n",
       "    <tr>\n",
       "      <th>3</th>\n",
       "      <td>Technical Support</td>\n",
       "      <td>Admin/Maintenance/Security/Datawarehousing</td>\n",
       "      <td>Mumbai</td>\n",
       "      <td>IT</td>\n",
       "      <td>200000</td>\n",
       "      <td>2.5</td>\n",
       "      <td>medium</td>\n",
       "      <td>junior</td>\n",
       "    </tr>\n",
       "    <tr>\n",
       "      <th>5</th>\n",
       "      <td>adobe experience manager| digital| digital ma...</td>\n",
       "      <td>Programming &amp; Design</td>\n",
       "      <td>Pune</td>\n",
       "      <td>IT</td>\n",
       "      <td>1000000</td>\n",
       "      <td>6.0</td>\n",
       "      <td>very high</td>\n",
       "      <td>senior</td>\n",
       "    </tr>\n",
       "    <tr>\n",
       "      <th>10</th>\n",
       "      <td>secretary| executive assistant| ea</td>\n",
       "      <td>Corporate Planning/Consulting/Strategy</td>\n",
       "      <td>Mumbai</td>\n",
       "      <td>Strategy &amp; Management</td>\n",
       "      <td>1000000</td>\n",
       "      <td>7.5</td>\n",
       "      <td>very high</td>\n",
       "      <td>manager+</td>\n",
       "    </tr>\n",
       "    <tr>\n",
       "      <th>14</th>\n",
       "      <td>digital marketing| seo| social media marketin...</td>\n",
       "      <td>Online/Digital Marketing</td>\n",
       "      <td>Gurgaon</td>\n",
       "      <td>Marketing &amp; Advertising</td>\n",
       "      <td>150000</td>\n",
       "      <td>3.0</td>\n",
       "      <td>medium</td>\n",
       "      <td>middle</td>\n",
       "    </tr>\n",
       "    <tr>\n",
       "      <th>20</th>\n",
       "      <td>sales manager| business development manager| ...</td>\n",
       "      <td>Retail/Personal Banking</td>\n",
       "      <td>Bhilai/Bhillai</td>\n",
       "      <td>Financial &amp; Services</td>\n",
       "      <td>225000</td>\n",
       "      <td>5.0</td>\n",
       "      <td>medium</td>\n",
       "      <td>senior</td>\n",
       "    </tr>\n",
       "  </tbody>\n",
       "</table>\n",
       "</div>"
      ],
      "text/plain": [
       "                                           key_skills  \\\n",
       "3                                   Technical Support   \n",
       "5    adobe experience manager| digital| digital ma...   \n",
       "10                 secretary| executive assistant| ea   \n",
       "14   digital marketing| seo| social media marketin...   \n",
       "20   sales manager| business development manager| ...   \n",
       "\n",
       "                                 role_category        location  \\\n",
       "3   Admin/Maintenance/Security/Datawarehousing          Mumbai   \n",
       "5                         Programming & Design            Pune   \n",
       "10      Corporate Planning/Consulting/Strategy          Mumbai   \n",
       "14                    Online/Digital Marketing         Gurgaon   \n",
       "20                     Retail/Personal Banking  Bhilai/Bhillai   \n",
       "\n",
       "            functional_area  salary_avg  exp_lvl_avg salary_group  \\\n",
       "3                        IT      200000          2.5       medium   \n",
       "5                        IT     1000000          6.0    very high   \n",
       "10    Strategy & Management     1000000          7.5    very high   \n",
       "14  Marketing & Advertising      150000          3.0       medium   \n",
       "20     Financial & Services      225000          5.0       medium   \n",
       "\n",
       "   experience_group  \n",
       "3            junior  \n",
       "5            senior  \n",
       "10         manager+  \n",
       "14           middle  \n",
       "20           senior  "
      ]
     },
     "execution_count": 118,
     "metadata": {},
     "output_type": "execute_result"
    }
   ],
   "source": [
    "df.head()"
   ]
  },
  {
   "cell_type": "code",
   "execution_count": 119,
   "metadata": {
    "ExecuteTime": {
     "end_time": "2021-07-19T12:12:54.901080Z",
     "start_time": "2021-07-19T12:12:54.873964Z"
    }
   },
   "outputs": [],
   "source": [
    "# filter role_category\n",
    "m = df['role_category'].value_counts() > 2\n",
    "df = df[df['role_category'].isin(m[m].index)]"
   ]
  },
  {
   "cell_type": "code",
   "execution_count": 120,
   "metadata": {
    "ExecuteTime": {
     "end_time": "2021-07-19T12:12:55.581458Z",
     "start_time": "2021-07-19T12:12:55.557939Z"
    }
   },
   "outputs": [],
   "source": [
    "# get the first element\n",
    "df[\"role_category\"]=df[\"role_category\"].str.split(\"/\").str[0]"
   ]
  },
  {
   "cell_type": "code",
   "execution_count": 121,
   "metadata": {
    "ExecuteTime": {
     "end_time": "2021-07-19T12:12:56.154968Z",
     "start_time": "2021-07-19T12:12:56.057002Z"
    }
   },
   "outputs": [],
   "source": [
    "# save and export df\n",
    "df.to_csv('salaries_60.csv')"
   ]
  },
  {
   "cell_type": "code",
   "execution_count": 122,
   "metadata": {
    "ExecuteTime": {
     "end_time": "2021-07-19T12:13:19.929230Z",
     "start_time": "2021-07-19T12:13:19.913237Z"
    }
   },
   "outputs": [
    {
     "data": {
      "text/plain": [
       "225000.0"
      ]
     },
     "execution_count": 122,
     "metadata": {},
     "output_type": "execute_result"
    }
   ],
   "source": [
    "# get median from salary\n",
    "df['salary_avg'].median()"
   ]
  },
  {
   "cell_type": "code",
   "execution_count": 123,
   "metadata": {
    "ExecuteTime": {
     "end_time": "2021-07-19T12:13:20.688350Z",
     "start_time": "2021-07-19T12:13:20.653697Z"
    }
   },
   "outputs": [],
   "source": [
    "# select samples with salary less than the median\n",
    "low_salary = df.query('salary_avg < 225000')\n",
    "\n",
    "# select samples with saalry greater than or equal to the median\n",
    "high_salary = df.query('salary_avg >= 225000')"
   ]
  },
  {
   "cell_type": "code",
   "execution_count": 124,
   "metadata": {
    "ExecuteTime": {
     "end_time": "2021-07-19T12:13:22.749153Z",
     "start_time": "2021-07-19T12:13:22.733157Z"
    }
   },
   "outputs": [
    {
     "data": {
      "text/plain": [
       "(3.2360747051114025, 6.1031007751937985)"
      ]
     },
     "execution_count": 124,
     "metadata": {},
     "output_type": "execute_result"
    }
   ],
   "source": [
    "# get mean exp_lvl rating for the low salary and high salary groups\n",
    "low_salary.exp_lvl_avg.mean(), high_salary['exp_lvl_avg'].mean()"
   ]
  },
  {
   "cell_type": "code",
   "execution_count": 125,
   "metadata": {
    "ExecuteTime": {
     "end_time": "2021-07-19T12:13:23.378879Z",
     "start_time": "2021-07-19T12:13:23.360249Z"
    }
   },
   "outputs": [],
   "source": [
    "# an alternative\n",
    "high = df['salary_avg']>=225000\n",
    "low = df['salary_avg']<225000"
   ]
  },
  {
   "cell_type": "code",
   "execution_count": 126,
   "metadata": {
    "ExecuteTime": {
     "end_time": "2021-07-19T12:13:24.589382Z",
     "start_time": "2021-07-19T12:13:24.058052Z"
    }
   },
   "outputs": [
    {
     "data": {
      "text/plain": [
       "<matplotlib.legend.Legend at 0x1950602d730>"
      ]
     },
     "execution_count": 126,
     "metadata": {},
     "output_type": "execute_result"
    },
    {
     "data": {
      "image/png": "[encoded data removed]",
      "text/plain": [
       "<Figure size 432x288 with 1 Axes>"
      ]
     },
     "metadata": {
      "needs_background": "light"
     },
     "output_type": "display_data"
    }
   ],
   "source": [
    "# ploting - salaray related with experience level\n",
    "df.exp_lvl_avg[high].hist(alpha=0.5, label='high salary')\n",
    "df.exp_lvl_avg[low].hist(alpha=0.5, label='low salary')\n",
    "plt.legend()"
   ]
  },
  {
   "cell_type": "code",
   "execution_count": 127,
   "metadata": {
    "ExecuteTime": {
     "end_time": "2021-07-19T12:24:06.071650Z",
     "start_time": "2021-07-19T12:24:06.039811Z"
    }
   },
   "outputs": [],
   "source": [
    "# counting frequency of words from key_skills\n",
    "# split words\n",
    "df['key_skills']=df['key_skills'].str.split()"
   ]
  },
  {
   "cell_type": "code",
   "execution_count": 129,
   "metadata": {
    "ExecuteTime": {
     "end_time": "2021-07-19T12:57:24.399250Z",
     "start_time": "2021-07-19T12:57:24.389952Z"
    }
   },
   "outputs": [],
   "source": [
    "# apply counting\n",
    "# Counter(elem for sub in df['key_skills'] for elem in sub).most_common()"
   ]
  }
 ],
 "metadata": {
  "kernelspec": {
   "display_name": "Python 3",
   "language": "python",
   "name": "python3"
  },
  "language_info": {
   "codemirror_mode": {
    "name": "ipython",
    "version": 3
   },
   "file_extension": ".py",
   "mimetype": "text/x-python",
   "name": "python",
   "nbconvert_exporter": "python",
   "pygments_lexer": "ipython3",
   "version": "3.8.5"
  }
 },
 "nbformat": 4,
 "nbformat_minor": 4
}
